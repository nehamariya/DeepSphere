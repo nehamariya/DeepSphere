{
  "nbformat": 4,
  "nbformat_minor": 0,
  "metadata": {
    "colab": {
      "name": "Trial.ipynb",
      "provenance": [],
      "mount_file_id": "1xKfVTA9GytyU-JcFyqwJmN8OLwI_uLz4",
      "authorship_tag": "ABX9TyMzw+VM8l+u9RtC/oeofziN",
      "include_colab_link": true
    },
    "kernelspec": {
      "name": "python3",
      "display_name": "Python 3"
    },
    "language_info": {
      "name": "python"
    },
    "accelerator": "GPU"
  },
  "cells": [
    {
      "cell_type": "markdown",
      "metadata": {
        "id": "view-in-github",
        "colab_type": "text"
      },
      "source": [
        "<a href=\"https://colab.research.google.com/github/nehamariya/DeepSphere/blob/main/Trial.ipynb\" target=\"_parent\"><img src=\"https://colab.research.google.com/assets/colab-badge.svg\" alt=\"Open In Colab\"/></a>"
      ]
    },
    {
      "cell_type": "code",
      "metadata": {
        "id": "Hf6-86C9fW6k"
      },
      "source": [
        "!apt-get -qq install -y graphviz && pip install -q pydot"
      ],
      "execution_count": 26,
      "outputs": []
    }
  ]
}